{
 "cells": [
  {
   "cell_type": "markdown",
   "metadata": {},
   "source": [
    "## Data Processing"
   ]
  },
  {
   "cell_type": "code",
   "execution_count": 1,
   "metadata": {},
   "outputs": [
    {
     "name": "stdout",
     "output_type": "stream",
     "text": [
      "[[1 2]\n",
      " [3 4]]\n"
     ]
    }
   ],
   "source": [
    "import numpy as np\n",
    "a = np.array([[1,2],[3,4]])\n",
    "print(a)"
   ]
  },
  {
   "cell_type": "code",
   "execution_count": 2,
   "metadata": {},
   "outputs": [
    {
     "name": "stdout",
     "output_type": "stream",
     "text": [
      "[[[1 2 3 4 5]]]\n"
     ]
    }
   ],
   "source": [
    "# ndmin mean size of array \n",
    "a = np.array([1,2,3,4,5], ndmin=3)\n",
    "print(a)"
   ]
  },
  {
   "cell_type": "code",
   "execution_count": 3,
   "metadata": {},
   "outputs": [
    {
     "name": "stdout",
     "output_type": "stream",
     "text": [
      "[1.+0.j 2.+0.j 3.+0.j]\n",
      "[1. 2. 3.]\n"
     ]
    }
   ],
   "source": [
    "a = np.array([1,2,3], dtype=complex)\n",
    "b = np.array([1,2,3], dtype=float)\n",
    "\n",
    "print(a)\n",
    "print(b)\n"
   ]
  },
  {
   "cell_type": "code",
   "execution_count": 4,
   "metadata": {},
   "outputs": [
    {
     "name": "stdout",
     "output_type": "stream",
     "text": [
      "0    a\n",
      "1    b\n",
      "2    c\n",
      "3    d\n",
      "4    e\n",
      "dtype: object\n"
     ]
    }
   ],
   "source": [
    "import pandas as pd\n",
    "data = np.array(['a','b','c','d','e'])\n",
    "s = pd.Series(data)\n",
    "print(s)"
   ]
  },
  {
   "cell_type": "code",
   "execution_count": 5,
   "metadata": {},
   "outputs": [
    {
     "name": "stdout",
     "output_type": "stream",
     "text": [
      "        Name  Age\n",
      "rank1    Tom   24\n",
      "rank2  Jerry   34\n",
      "rank3   Jack   54\n",
      "rank4   Oggy   12\n"
     ]
    }
   ],
   "source": [
    "data = {'Name':['Tom','Jerry','Jack','Oggy'],'Age':[24,34,54,12]}\n",
    "df = pd.DataFrame(data,index=['rank1','rank2','rank3','rank4'])\n",
    "print(df)"
   ]
  },
  {
   "cell_type": "code",
   "execution_count": 6,
   "metadata": {},
   "outputs": [],
   "source": [
    "# Panel Module Remove From new Version of Pandas\n",
    "\n",
    "# data = { 'Item1': pd.DataFrame(np.random.randn(4,3)),\n",
    "#          'Item2': pd.DataFrame(np.random.randn(4,2))\n",
    "# }\n",
    "# p = pd.Panel(data)\n",
    "# print(p)"
   ]
  },
  {
   "cell_type": "markdown",
   "metadata": {},
   "source": [
    "## Data Cleansing"
   ]
  },
  {
   "cell_type": "code",
   "execution_count": 7,
   "metadata": {},
   "outputs": [
    {
     "name": "stdout",
     "output_type": "stream",
     "text": [
      "[[-0.02864166  0.61791067  1.03672812]\n",
      " [-0.94199299 -0.27225905  0.56912782]\n",
      " [ 0.55604507 -0.66393712  0.56421183]\n",
      " [ 0.12903391  0.26700379 -0.7387224 ]\n",
      " [ 0.33061451 -0.44676972 -0.10688624]]\n",
      "        one       two     three\n",
      "a -0.158994  0.525862  0.084301\n",
      "b       NaN       NaN       NaN\n",
      "c  1.002819 -1.503696  0.806397\n",
      "d       NaN       NaN       NaN\n",
      "e -0.042532 -0.712726  0.504240\n",
      "f  0.117453 -1.023742 -1.303904\n",
      "g       NaN       NaN       NaN\n",
      "h -1.053899 -0.603865  0.514631\n"
     ]
    }
   ],
   "source": [
    "import pandas as pd\n",
    "import numpy as np\n",
    "\n",
    "print(np.random.randn(5,3))\n",
    "df = pd.DataFrame(np.random.randn(5,3), index=['a','c','e','f','h'], columns=['one', 'two', 'three'])\n",
    "\n",
    "df = df.reindex(['a','b','c','d','e','f','g','h'])\n",
    "\n",
    "print(df)"
   ]
  },
  {
   "cell_type": "code",
   "execution_count": 8,
   "metadata": {},
   "outputs": [
    {
     "data": {
      "text/html": [
       "<div>\n",
       "<style scoped>\n",
       "    .dataframe tbody tr th:only-of-type {\n",
       "        vertical-align: middle;\n",
       "    }\n",
       "\n",
       "    .dataframe tbody tr th {\n",
       "        vertical-align: top;\n",
       "    }\n",
       "\n",
       "    .dataframe thead th {\n",
       "        text-align: right;\n",
       "    }\n",
       "</style>\n",
       "<table border=\"1\" class=\"dataframe\">\n",
       "  <thead>\n",
       "    <tr style=\"text-align: right;\">\n",
       "      <th></th>\n",
       "      <th>one</th>\n",
       "      <th>two</th>\n",
       "      <th>three</th>\n",
       "    </tr>\n",
       "  </thead>\n",
       "  <tbody>\n",
       "    <tr>\n",
       "      <th>a</th>\n",
       "      <td>False</td>\n",
       "      <td>False</td>\n",
       "      <td>False</td>\n",
       "    </tr>\n",
       "    <tr>\n",
       "      <th>b</th>\n",
       "      <td>True</td>\n",
       "      <td>True</td>\n",
       "      <td>True</td>\n",
       "    </tr>\n",
       "    <tr>\n",
       "      <th>c</th>\n",
       "      <td>False</td>\n",
       "      <td>False</td>\n",
       "      <td>False</td>\n",
       "    </tr>\n",
       "    <tr>\n",
       "      <th>d</th>\n",
       "      <td>True</td>\n",
       "      <td>True</td>\n",
       "      <td>True</td>\n",
       "    </tr>\n",
       "    <tr>\n",
       "      <th>e</th>\n",
       "      <td>False</td>\n",
       "      <td>False</td>\n",
       "      <td>False</td>\n",
       "    </tr>\n",
       "    <tr>\n",
       "      <th>f</th>\n",
       "      <td>False</td>\n",
       "      <td>False</td>\n",
       "      <td>False</td>\n",
       "    </tr>\n",
       "    <tr>\n",
       "      <th>g</th>\n",
       "      <td>True</td>\n",
       "      <td>True</td>\n",
       "      <td>True</td>\n",
       "    </tr>\n",
       "    <tr>\n",
       "      <th>h</th>\n",
       "      <td>False</td>\n",
       "      <td>False</td>\n",
       "      <td>False</td>\n",
       "    </tr>\n",
       "  </tbody>\n",
       "</table>\n",
       "</div>"
      ],
      "text/plain": [
       "     one    two  three\n",
       "a  False  False  False\n",
       "b   True   True   True\n",
       "c  False  False  False\n",
       "d   True   True   True\n",
       "e  False  False  False\n",
       "f  False  False  False\n",
       "g   True   True   True\n",
       "h  False  False  False"
      ]
     },
     "execution_count": 8,
     "metadata": {},
     "output_type": "execute_result"
    }
   ],
   "source": [
    "df.isnull()"
   ]
  },
  {
   "cell_type": "markdown",
   "metadata": {},
   "source": [
    "##### fillna function fill the NAN value to respected add as parameter in Function"
   ]
  },
  {
   "cell_type": "code",
   "execution_count": 9,
   "metadata": {},
   "outputs": [],
   "source": [
    "# df.fillna(0)"
   ]
  },
  {
   "cell_type": "markdown",
   "metadata": {},
   "source": [
    "##### fillna function we can add method='pad' or method='fill' it's mean add forward value"
   ]
  },
  {
   "cell_type": "code",
   "execution_count": 10,
   "metadata": {},
   "outputs": [],
   "source": [
    "# print(df.fillna(method='pad'))"
   ]
  },
  {
   "cell_type": "markdown",
   "metadata": {},
   "source": [
    "##### fillna function we can add method='bfill' or method='backfill' it's mean add backward value"
   ]
  },
  {
   "cell_type": "code",
   "execution_count": 11,
   "metadata": {},
   "outputs": [
    {
     "name": "stdout",
     "output_type": "stream",
     "text": [
      "        one       two     three\n",
      "a -0.158994  0.525862  0.084301\n",
      "b  1.002819 -1.503696  0.806397\n",
      "c  1.002819 -1.503696  0.806397\n",
      "d -0.042532 -0.712726  0.504240\n",
      "e -0.042532 -0.712726  0.504240\n",
      "f  0.117453 -1.023742 -1.303904\n",
      "g -1.053899 -0.603865  0.514631\n",
      "h -1.053899 -0.603865  0.514631\n"
     ]
    }
   ],
   "source": [
    "print(df.fillna(method='bfill'))"
   ]
  },
  {
   "cell_type": "markdown",
   "metadata": {},
   "source": [
    "##### dropna functin use delete all null value"
   ]
  },
  {
   "cell_type": "code",
   "execution_count": 12,
   "metadata": {},
   "outputs": [
    {
     "data": {
      "text/html": [
       "<div>\n",
       "<style scoped>\n",
       "    .dataframe tbody tr th:only-of-type {\n",
       "        vertical-align: middle;\n",
       "    }\n",
       "\n",
       "    .dataframe tbody tr th {\n",
       "        vertical-align: top;\n",
       "    }\n",
       "\n",
       "    .dataframe thead th {\n",
       "        text-align: right;\n",
       "    }\n",
       "</style>\n",
       "<table border=\"1\" class=\"dataframe\">\n",
       "  <thead>\n",
       "    <tr style=\"text-align: right;\">\n",
       "      <th></th>\n",
       "      <th>one</th>\n",
       "      <th>two</th>\n",
       "      <th>three</th>\n",
       "    </tr>\n",
       "  </thead>\n",
       "  <tbody>\n",
       "    <tr>\n",
       "      <th>a</th>\n",
       "      <td>-0.158994</td>\n",
       "      <td>0.525862</td>\n",
       "      <td>0.084301</td>\n",
       "    </tr>\n",
       "    <tr>\n",
       "      <th>c</th>\n",
       "      <td>1.002819</td>\n",
       "      <td>-1.503696</td>\n",
       "      <td>0.806397</td>\n",
       "    </tr>\n",
       "    <tr>\n",
       "      <th>e</th>\n",
       "      <td>-0.042532</td>\n",
       "      <td>-0.712726</td>\n",
       "      <td>0.504240</td>\n",
       "    </tr>\n",
       "    <tr>\n",
       "      <th>f</th>\n",
       "      <td>0.117453</td>\n",
       "      <td>-1.023742</td>\n",
       "      <td>-1.303904</td>\n",
       "    </tr>\n",
       "    <tr>\n",
       "      <th>h</th>\n",
       "      <td>-1.053899</td>\n",
       "      <td>-0.603865</td>\n",
       "      <td>0.514631</td>\n",
       "    </tr>\n",
       "  </tbody>\n",
       "</table>\n",
       "</div>"
      ],
      "text/plain": [
       "        one       two     three\n",
       "a -0.158994  0.525862  0.084301\n",
       "c  1.002819 -1.503696  0.806397\n",
       "e -0.042532 -0.712726  0.504240\n",
       "f  0.117453 -1.023742 -1.303904\n",
       "h -1.053899 -0.603865  0.514631"
      ]
     },
     "execution_count": 12,
     "metadata": {},
     "output_type": "execute_result"
    }
   ],
   "source": [
    "df.dropna()"
   ]
  },
  {
   "cell_type": "markdown",
   "metadata": {},
   "source": [
    "##### replace function use for repalce value "
   ]
  },
  {
   "cell_type": "code",
   "execution_count": 13,
   "metadata": {},
   "outputs": [
    {
     "data": {
      "text/html": [
       "<div>\n",
       "<style scoped>\n",
       "    .dataframe tbody tr th:only-of-type {\n",
       "        vertical-align: middle;\n",
       "    }\n",
       "\n",
       "    .dataframe tbody tr th {\n",
       "        vertical-align: top;\n",
       "    }\n",
       "\n",
       "    .dataframe thead th {\n",
       "        text-align: right;\n",
       "    }\n",
       "</style>\n",
       "<table border=\"1\" class=\"dataframe\">\n",
       "  <thead>\n",
       "    <tr style=\"text-align: right;\">\n",
       "      <th></th>\n",
       "      <th>One</th>\n",
       "      <th>Two</th>\n",
       "    </tr>\n",
       "  </thead>\n",
       "  <tbody>\n",
       "    <tr>\n",
       "      <th>0</th>\n",
       "      <td>10</td>\n",
       "      <td>9870</td>\n",
       "    </tr>\n",
       "    <tr>\n",
       "      <th>1</th>\n",
       "      <td>20</td>\n",
       "      <td>0</td>\n",
       "    </tr>\n",
       "    <tr>\n",
       "      <th>2</th>\n",
       "      <td>30</td>\n",
       "      <td>10</td>\n",
       "    </tr>\n",
       "    <tr>\n",
       "      <th>3</th>\n",
       "      <td>40</td>\n",
       "      <td>23</td>\n",
       "    </tr>\n",
       "    <tr>\n",
       "      <th>4</th>\n",
       "      <td>50</td>\n",
       "      <td>45</td>\n",
       "    </tr>\n",
       "    <tr>\n",
       "      <th>5</th>\n",
       "      <td>1234</td>\n",
       "      <td>78</td>\n",
       "    </tr>\n",
       "  </tbody>\n",
       "</table>\n",
       "</div>"
      ],
      "text/plain": [
       "    One   Two\n",
       "0    10  9870\n",
       "1    20     0\n",
       "2    30    10\n",
       "3    40    23\n",
       "4    50    45\n",
       "5  1234    78"
      ]
     },
     "execution_count": 13,
     "metadata": {},
     "output_type": "execute_result"
    }
   ],
   "source": [
    "df  = pd.DataFrame({\n",
    "    'One':[10,20,30,40,50,2000],\n",
    "    'Two':[1000,0,10,23,45,78]\n",
    "})\n",
    "df.replace({2000:1234, 1000:9870})"
   ]
  },
  {
   "cell_type": "markdown",
   "metadata": {},
   "source": [
    "## Processing CSV Data"
   ]
  },
  {
   "cell_type": "code",
   "execution_count": 14,
   "metadata": {},
   "outputs": [
    {
     "data": {
      "text/html": [
       "<div>\n",
       "<style scoped>\n",
       "    .dataframe tbody tr th:only-of-type {\n",
       "        vertical-align: middle;\n",
       "    }\n",
       "\n",
       "    .dataframe tbody tr th {\n",
       "        vertical-align: top;\n",
       "    }\n",
       "\n",
       "    .dataframe thead th {\n",
       "        text-align: right;\n",
       "    }\n",
       "</style>\n",
       "<table border=\"1\" class=\"dataframe\">\n",
       "  <thead>\n",
       "    <tr style=\"text-align: right;\">\n",
       "      <th></th>\n",
       "      <th>rank</th>\n",
       "      <th>youtuber</th>\n",
       "      <th>subscribers</th>\n",
       "      <th>video views</th>\n",
       "      <th>video count</th>\n",
       "      <th>category</th>\n",
       "      <th>started</th>\n",
       "    </tr>\n",
       "  </thead>\n",
       "  <tbody>\n",
       "    <tr>\n",
       "      <th>0</th>\n",
       "      <td>1</td>\n",
       "      <td>T-Series</td>\n",
       "      <td>213000000</td>\n",
       "      <td>188,073,919,029</td>\n",
       "      <td>16708.0</td>\n",
       "      <td>Music</td>\n",
       "      <td>2006</td>\n",
       "    </tr>\n",
       "    <tr>\n",
       "      <th>1</th>\n",
       "      <td>2</td>\n",
       "      <td>YouTube Movies</td>\n",
       "      <td>150000000</td>\n",
       "      <td>167,122,746,349</td>\n",
       "      <td>NaN</td>\n",
       "      <td>Film &amp; Animation</td>\n",
       "      <td>2015</td>\n",
       "    </tr>\n",
       "    <tr>\n",
       "      <th>2</th>\n",
       "      <td>3</td>\n",
       "      <td>Cocomelon - Nursery Rhymes</td>\n",
       "      <td>133000000</td>\n",
       "      <td>126,822,520,940</td>\n",
       "      <td>751.0</td>\n",
       "      <td>Education</td>\n",
       "      <td>2006</td>\n",
       "    </tr>\n",
       "    <tr>\n",
       "      <th>3</th>\n",
       "      <td>4</td>\n",
       "      <td>SET India</td>\n",
       "      <td>131000000</td>\n",
       "      <td>101,541,977,714</td>\n",
       "      <td>78334.0</td>\n",
       "      <td>Shows</td>\n",
       "      <td>2006</td>\n",
       "    </tr>\n",
       "    <tr>\n",
       "      <th>4</th>\n",
       "      <td>5</td>\n",
       "      <td>Music</td>\n",
       "      <td>116000000</td>\n",
       "      <td>78,437,871,689</td>\n",
       "      <td>NaN</td>\n",
       "      <td>Music</td>\n",
       "      <td>2013</td>\n",
       "    </tr>\n",
       "    <tr>\n",
       "      <th>...</th>\n",
       "      <td>...</td>\n",
       "      <td>...</td>\n",
       "      <td>...</td>\n",
       "      <td>...</td>\n",
       "      <td>...</td>\n",
       "      <td>...</td>\n",
       "      <td>...</td>\n",
       "    </tr>\n",
       "    <tr>\n",
       "      <th>95</th>\n",
       "      <td>96</td>\n",
       "      <td>Markiplier</td>\n",
       "      <td>32600000</td>\n",
       "      <td>18,011,837,263</td>\n",
       "      <td>5129.0</td>\n",
       "      <td>Gaming</td>\n",
       "      <td>2012</td>\n",
       "    </tr>\n",
       "    <tr>\n",
       "      <th>96</th>\n",
       "      <td>97</td>\n",
       "      <td>Like Nastya ESP</td>\n",
       "      <td>32600000</td>\n",
       "      <td>15,144,858,210</td>\n",
       "      <td>584.0</td>\n",
       "      <td>Entertainment</td>\n",
       "      <td>2017</td>\n",
       "    </tr>\n",
       "    <tr>\n",
       "      <th>97</th>\n",
       "      <td>98</td>\n",
       "      <td>Ryan's World</td>\n",
       "      <td>32400000</td>\n",
       "      <td>51,312,603,726</td>\n",
       "      <td>2155.0</td>\n",
       "      <td>Entertainment</td>\n",
       "      <td>2015</td>\n",
       "    </tr>\n",
       "    <tr>\n",
       "      <th>98</th>\n",
       "      <td>99</td>\n",
       "      <td>ABP News</td>\n",
       "      <td>32300000</td>\n",
       "      <td>9,850,740,503</td>\n",
       "      <td>209351.0</td>\n",
       "      <td>People &amp; Blogs</td>\n",
       "      <td>2012</td>\n",
       "    </tr>\n",
       "    <tr>\n",
       "      <th>99</th>\n",
       "      <td>100</td>\n",
       "      <td>Desi Music Factory</td>\n",
       "      <td>32200000</td>\n",
       "      <td>9,115,577,588</td>\n",
       "      <td>122.0</td>\n",
       "      <td>Music</td>\n",
       "      <td>2014</td>\n",
       "    </tr>\n",
       "  </tbody>\n",
       "</table>\n",
       "<p>100 rows × 7 columns</p>\n",
       "</div>"
      ],
      "text/plain": [
       "    rank                     youtuber  subscribers      video views  \\\n",
       "0      1                    T-Series     213000000  188,073,919,029   \n",
       "1      2              YouTube Movies     150000000  167,122,746,349   \n",
       "2      3  Cocomelon - Nursery Rhymes     133000000  126,822,520,940   \n",
       "3      4                   SET India     131000000  101,541,977,714   \n",
       "4      5                       Music     116000000   78,437,871,689   \n",
       "..   ...                          ...          ...              ...   \n",
       "95    96                  Markiplier      32600000   18,011,837,263   \n",
       "96    97             Like Nastya ESP      32600000   15,144,858,210   \n",
       "97    98                Ryan's World      32400000   51,312,603,726   \n",
       "98    99                    ABP News      32300000    9,850,740,503   \n",
       "99   100          Desi Music Factory      32200000    9,115,577,588   \n",
       "\n",
       "    video count           category  started   \n",
       "0       16708.0             Music       2006  \n",
       "1           NaN  Film & Animation       2015  \n",
       "2         751.0         Education       2006  \n",
       "3       78334.0             Shows       2006  \n",
       "4           NaN             Music       2013  \n",
       "..          ...                ...       ...  \n",
       "95       5129.0            Gaming       2012  \n",
       "96        584.0     Entertainment       2017  \n",
       "97       2155.0     Entertainment       2015  \n",
       "98     209351.0    People & Blogs       2012  \n",
       "99        122.0             Music       2014  \n",
       "\n",
       "[100 rows x 7 columns]"
      ]
     },
     "execution_count": 14,
     "metadata": {},
     "output_type": "execute_result"
    }
   ],
   "source": [
    "import pandas as pd\n",
    "\n",
    "data = pd.read_csv('top_youtube_channel_data.csv')\n",
    "data"
   ]
  },
  {
   "cell_type": "code",
   "execution_count": 15,
   "metadata": {},
   "outputs": [
    {
     "data": {
      "text/html": [
       "<div>\n",
       "<style scoped>\n",
       "    .dataframe tbody tr th:only-of-type {\n",
       "        vertical-align: middle;\n",
       "    }\n",
       "\n",
       "    .dataframe tbody tr th {\n",
       "        vertical-align: top;\n",
       "    }\n",
       "\n",
       "    .dataframe thead th {\n",
       "        text-align: right;\n",
       "    }\n",
       "</style>\n",
       "<table border=\"1\" class=\"dataframe\">\n",
       "  <thead>\n",
       "    <tr style=\"text-align: right;\">\n",
       "      <th></th>\n",
       "      <th>rank</th>\n",
       "      <th>youtuber</th>\n",
       "      <th>subscribers</th>\n",
       "      <th>video views</th>\n",
       "      <th>video count</th>\n",
       "      <th>category</th>\n",
       "      <th>started</th>\n",
       "    </tr>\n",
       "  </thead>\n",
       "  <tbody>\n",
       "    <tr>\n",
       "      <th>0</th>\n",
       "      <td>1</td>\n",
       "      <td>T-Series</td>\n",
       "      <td>213000000</td>\n",
       "      <td>188,073,919,029</td>\n",
       "      <td>16708.0</td>\n",
       "      <td>Music</td>\n",
       "      <td>2006</td>\n",
       "    </tr>\n",
       "    <tr>\n",
       "      <th>1</th>\n",
       "      <td>2</td>\n",
       "      <td>YouTube Movies</td>\n",
       "      <td>150000000</td>\n",
       "      <td>167,122,746,349</td>\n",
       "      <td>NaN</td>\n",
       "      <td>Film &amp; Animation</td>\n",
       "      <td>2015</td>\n",
       "    </tr>\n",
       "    <tr>\n",
       "      <th>2</th>\n",
       "      <td>3</td>\n",
       "      <td>Cocomelon - Nursery Rhymes</td>\n",
       "      <td>133000000</td>\n",
       "      <td>126,822,520,940</td>\n",
       "      <td>751.0</td>\n",
       "      <td>Education</td>\n",
       "      <td>2006</td>\n",
       "    </tr>\n",
       "    <tr>\n",
       "      <th>3</th>\n",
       "      <td>4</td>\n",
       "      <td>SET India</td>\n",
       "      <td>131000000</td>\n",
       "      <td>101,541,977,714</td>\n",
       "      <td>78334.0</td>\n",
       "      <td>Shows</td>\n",
       "      <td>2006</td>\n",
       "    </tr>\n",
       "    <tr>\n",
       "      <th>4</th>\n",
       "      <td>5</td>\n",
       "      <td>Music</td>\n",
       "      <td>116000000</td>\n",
       "      <td>78,437,871,689</td>\n",
       "      <td>NaN</td>\n",
       "      <td>Music</td>\n",
       "      <td>2013</td>\n",
       "    </tr>\n",
       "  </tbody>\n",
       "</table>\n",
       "</div>"
      ],
      "text/plain": [
       "   rank                     youtuber  subscribers      video views  \\\n",
       "0     1                    T-Series     213000000  188,073,919,029   \n",
       "1     2              YouTube Movies     150000000  167,122,746,349   \n",
       "2     3  Cocomelon - Nursery Rhymes     133000000  126,822,520,940   \n",
       "3     4                   SET India     131000000  101,541,977,714   \n",
       "4     5                       Music     116000000   78,437,871,689   \n",
       "\n",
       "   video count           category  started   \n",
       "0      16708.0             Music       2006  \n",
       "1          NaN  Film & Animation       2015  \n",
       "2        751.0         Education       2006  \n",
       "3      78334.0             Shows       2006  \n",
       "4          NaN             Music       2013  "
      ]
     },
     "execution_count": 15,
     "metadata": {},
     "output_type": "execute_result"
    }
   ],
   "source": [
    "data.head()"
   ]
  },
  {
   "cell_type": "code",
   "execution_count": 16,
   "metadata": {},
   "outputs": [
    {
     "data": {
      "text/html": [
       "<div>\n",
       "<style scoped>\n",
       "    .dataframe tbody tr th:only-of-type {\n",
       "        vertical-align: middle;\n",
       "    }\n",
       "\n",
       "    .dataframe tbody tr th {\n",
       "        vertical-align: top;\n",
       "    }\n",
       "\n",
       "    .dataframe thead th {\n",
       "        text-align: right;\n",
       "    }\n",
       "</style>\n",
       "<table border=\"1\" class=\"dataframe\">\n",
       "  <thead>\n",
       "    <tr style=\"text-align: right;\">\n",
       "      <th></th>\n",
       "      <th>rank</th>\n",
       "      <th>youtuber</th>\n",
       "      <th>subscribers</th>\n",
       "      <th>video views</th>\n",
       "      <th>video count</th>\n",
       "      <th>category</th>\n",
       "      <th>started</th>\n",
       "    </tr>\n",
       "  </thead>\n",
       "  <tbody>\n",
       "    <tr>\n",
       "      <th>95</th>\n",
       "      <td>96</td>\n",
       "      <td>Markiplier</td>\n",
       "      <td>32600000</td>\n",
       "      <td>18,011,837,263</td>\n",
       "      <td>5129.0</td>\n",
       "      <td>Gaming</td>\n",
       "      <td>2012</td>\n",
       "    </tr>\n",
       "    <tr>\n",
       "      <th>96</th>\n",
       "      <td>97</td>\n",
       "      <td>Like Nastya ESP</td>\n",
       "      <td>32600000</td>\n",
       "      <td>15,144,858,210</td>\n",
       "      <td>584.0</td>\n",
       "      <td>Entertainment</td>\n",
       "      <td>2017</td>\n",
       "    </tr>\n",
       "    <tr>\n",
       "      <th>97</th>\n",
       "      <td>98</td>\n",
       "      <td>Ryan's World</td>\n",
       "      <td>32400000</td>\n",
       "      <td>51,312,603,726</td>\n",
       "      <td>2155.0</td>\n",
       "      <td>Entertainment</td>\n",
       "      <td>2015</td>\n",
       "    </tr>\n",
       "    <tr>\n",
       "      <th>98</th>\n",
       "      <td>99</td>\n",
       "      <td>ABP News</td>\n",
       "      <td>32300000</td>\n",
       "      <td>9,850,740,503</td>\n",
       "      <td>209351.0</td>\n",
       "      <td>People &amp; Blogs</td>\n",
       "      <td>2012</td>\n",
       "    </tr>\n",
       "    <tr>\n",
       "      <th>99</th>\n",
       "      <td>100</td>\n",
       "      <td>Desi Music Factory</td>\n",
       "      <td>32200000</td>\n",
       "      <td>9,115,577,588</td>\n",
       "      <td>122.0</td>\n",
       "      <td>Music</td>\n",
       "      <td>2014</td>\n",
       "    </tr>\n",
       "  </tbody>\n",
       "</table>\n",
       "</div>"
      ],
      "text/plain": [
       "    rank             youtuber  subscribers     video views  video count  \\\n",
       "95    96          Markiplier      32600000  18,011,837,263       5129.0   \n",
       "96    97     Like Nastya ESP      32600000  15,144,858,210        584.0   \n",
       "97    98        Ryan's World      32400000  51,312,603,726       2155.0   \n",
       "98    99            ABP News      32300000   9,850,740,503     209351.0   \n",
       "99   100  Desi Music Factory      32200000   9,115,577,588        122.0   \n",
       "\n",
       "           category  started   \n",
       "95          Gaming       2012  \n",
       "96   Entertainment       2017  \n",
       "97   Entertainment       2015  \n",
       "98  People & Blogs       2012  \n",
       "99           Music       2014  "
      ]
     },
     "execution_count": 16,
     "metadata": {},
     "output_type": "execute_result"
    }
   ],
   "source": [
    "data.tail()"
   ]
  },
  {
   "cell_type": "code",
   "execution_count": 17,
   "metadata": {},
   "outputs": [
    {
     "data": {
      "text/plain": [
       "0               Music \n",
       "1    Film & Animation \n",
       "2           Education \n",
       "3               Shows \n",
       "4               Music \n",
       "Name: category, dtype: object"
      ]
     },
     "execution_count": 17,
     "metadata": {},
     "output_type": "execute_result"
    }
   ],
   "source": [
    "data.head()['category']"
   ]
  },
  {
   "cell_type": "code",
   "execution_count": 18,
   "metadata": {},
   "outputs": [
    {
     "name": "stdout",
     "output_type": "stream",
     "text": [
      "   rank           category\n",
      "0     1             Music \n",
      "1     2  Film & Animation \n",
      "2     3         Education \n",
      "3     4             Shows \n",
      "4     5             Music \n"
     ]
    }
   ],
   "source": [
    "print(data.loc[:,['rank','category']].head())"
   ]
  },
  {
   "cell_type": "code",
   "execution_count": 19,
   "metadata": {},
   "outputs": [
    {
     "data": {
      "text/html": [
       "<div>\n",
       "<style scoped>\n",
       "    .dataframe tbody tr th:only-of-type {\n",
       "        vertical-align: middle;\n",
       "    }\n",
       "\n",
       "    .dataframe tbody tr th {\n",
       "        vertical-align: top;\n",
       "    }\n",
       "\n",
       "    .dataframe thead th {\n",
       "        text-align: right;\n",
       "    }\n",
       "</style>\n",
       "<table border=\"1\" class=\"dataframe\">\n",
       "  <thead>\n",
       "    <tr style=\"text-align: right;\">\n",
       "      <th></th>\n",
       "      <th>rank</th>\n",
       "      <th>category</th>\n",
       "    </tr>\n",
       "  </thead>\n",
       "  <tbody>\n",
       "    <tr>\n",
       "      <th>1</th>\n",
       "      <td>2</td>\n",
       "      <td>Film &amp; Animation</td>\n",
       "    </tr>\n",
       "    <tr>\n",
       "      <th>2</th>\n",
       "      <td>3</td>\n",
       "      <td>Education</td>\n",
       "    </tr>\n",
       "    <tr>\n",
       "      <th>3</th>\n",
       "      <td>4</td>\n",
       "      <td>Shows</td>\n",
       "    </tr>\n",
       "    <tr>\n",
       "      <th>4</th>\n",
       "      <td>5</td>\n",
       "      <td>Music</td>\n",
       "    </tr>\n",
       "    <tr>\n",
       "      <th>5</th>\n",
       "      <td>6</td>\n",
       "      <td>Gaming</td>\n",
       "    </tr>\n",
       "    <tr>\n",
       "      <th>6</th>\n",
       "      <td>7</td>\n",
       "      <td>Entertainment</td>\n",
       "    </tr>\n",
       "    <tr>\n",
       "      <th>7</th>\n",
       "      <td>8</td>\n",
       "      <td>People &amp; Blogs</td>\n",
       "    </tr>\n",
       "    <tr>\n",
       "      <th>8</th>\n",
       "      <td>9</td>\n",
       "      <td>Gaming</td>\n",
       "    </tr>\n",
       "    <tr>\n",
       "      <th>9</th>\n",
       "      <td>10</td>\n",
       "      <td>People &amp; Blogs</td>\n",
       "    </tr>\n",
       "    <tr>\n",
       "      <th>10</th>\n",
       "      <td>11</td>\n",
       "      <td>Sports</td>\n",
       "    </tr>\n",
       "  </tbody>\n",
       "</table>\n",
       "</div>"
      ],
      "text/plain": [
       "    rank           category\n",
       "1      2  Film & Animation \n",
       "2      3         Education \n",
       "3      4             Shows \n",
       "4      5             Music \n",
       "5      6            Gaming \n",
       "6      7     Entertainment \n",
       "7      8    People & Blogs \n",
       "8      9            Gaming \n",
       "9     10    People & Blogs \n",
       "10    11            Sports "
      ]
     },
     "execution_count": 19,
     "metadata": {},
     "output_type": "execute_result"
    }
   ],
   "source": [
    "data.loc[1:10,['rank','category']]"
   ]
  },
  {
   "cell_type": "markdown",
   "metadata": {},
   "source": [
    " ### Processing JSON Data"
   ]
  },
  {
   "cell_type": "code",
   "execution_count": 20,
   "metadata": {},
   "outputs": [
    {
     "data": {
      "text/html": [
       "<div>\n",
       "<style scoped>\n",
       "    .dataframe tbody tr th:only-of-type {\n",
       "        vertical-align: middle;\n",
       "    }\n",
       "\n",
       "    .dataframe tbody tr th {\n",
       "        vertical-align: top;\n",
       "    }\n",
       "\n",
       "    .dataframe thead th {\n",
       "        text-align: right;\n",
       "    }\n",
       "</style>\n",
       "<table border=\"1\" class=\"dataframe\">\n",
       "  <thead>\n",
       "    <tr style=\"text-align: right;\">\n",
       "      <th></th>\n",
       "      <th>ID</th>\n",
       "      <th>Name</th>\n",
       "      <th>Salary</th>\n",
       "      <th>StartDate</th>\n",
       "      <th>Dept</th>\n",
       "    </tr>\n",
       "  </thead>\n",
       "  <tbody>\n",
       "    <tr>\n",
       "      <th>0</th>\n",
       "      <td>1</td>\n",
       "      <td>Rick</td>\n",
       "      <td>623.30</td>\n",
       "      <td>1/1/2012</td>\n",
       "      <td>IT</td>\n",
       "    </tr>\n",
       "    <tr>\n",
       "      <th>1</th>\n",
       "      <td>2</td>\n",
       "      <td>Dan</td>\n",
       "      <td>515.20</td>\n",
       "      <td>9/23/2013</td>\n",
       "      <td>Operations</td>\n",
       "    </tr>\n",
       "    <tr>\n",
       "      <th>2</th>\n",
       "      <td>3</td>\n",
       "      <td>Michelle</td>\n",
       "      <td>611.00</td>\n",
       "      <td>11/15/2014</td>\n",
       "      <td>IT</td>\n",
       "    </tr>\n",
       "    <tr>\n",
       "      <th>3</th>\n",
       "      <td>4</td>\n",
       "      <td>Ryan</td>\n",
       "      <td>729.00</td>\n",
       "      <td>5/11/2014</td>\n",
       "      <td>HR</td>\n",
       "    </tr>\n",
       "    <tr>\n",
       "      <th>4</th>\n",
       "      <td>5</td>\n",
       "      <td>Gary</td>\n",
       "      <td>843.25</td>\n",
       "      <td>3/27/2015</td>\n",
       "      <td>Finance</td>\n",
       "    </tr>\n",
       "    <tr>\n",
       "      <th>5</th>\n",
       "      <td>6</td>\n",
       "      <td>Nina</td>\n",
       "      <td>578.00</td>\n",
       "      <td>5/21/2013</td>\n",
       "      <td>IT</td>\n",
       "    </tr>\n",
       "    <tr>\n",
       "      <th>6</th>\n",
       "      <td>7</td>\n",
       "      <td>Simon</td>\n",
       "      <td>632.80</td>\n",
       "      <td>7/30/2013</td>\n",
       "      <td>Operations</td>\n",
       "    </tr>\n",
       "    <tr>\n",
       "      <th>7</th>\n",
       "      <td>8</td>\n",
       "      <td>Guru</td>\n",
       "      <td>722.50</td>\n",
       "      <td>6/17/2014</td>\n",
       "      <td>Finance</td>\n",
       "    </tr>\n",
       "  </tbody>\n",
       "</table>\n",
       "</div>"
      ],
      "text/plain": [
       "   ID      Name  Salary   StartDate        Dept\n",
       "0   1      Rick  623.30    1/1/2012          IT\n",
       "1   2       Dan  515.20   9/23/2013  Operations\n",
       "2   3  Michelle  611.00  11/15/2014          IT\n",
       "3   4      Ryan  729.00   5/11/2014          HR\n",
       "4   5      Gary  843.25   3/27/2015     Finance\n",
       "5   6      Nina  578.00   5/21/2013          IT\n",
       "6   7     Simon  632.80   7/30/2013  Operations\n",
       "7   8      Guru  722.50   6/17/2014     Finance"
      ]
     },
     "execution_count": 20,
     "metadata": {},
     "output_type": "execute_result"
    }
   ],
   "source": [
    "import pandas as pd\n",
    "\n",
    "data = pd.read_json('processing_json_data.json')\n",
    "data"
   ]
  },
  {
   "cell_type": "code",
   "execution_count": 21,
   "metadata": {},
   "outputs": [
    {
     "data": {
      "text/html": [
       "<div>\n",
       "<style scoped>\n",
       "    .dataframe tbody tr th:only-of-type {\n",
       "        vertical-align: middle;\n",
       "    }\n",
       "\n",
       "    .dataframe tbody tr th {\n",
       "        vertical-align: top;\n",
       "    }\n",
       "\n",
       "    .dataframe thead th {\n",
       "        text-align: right;\n",
       "    }\n",
       "</style>\n",
       "<table border=\"1\" class=\"dataframe\">\n",
       "  <thead>\n",
       "    <tr style=\"text-align: right;\">\n",
       "      <th></th>\n",
       "      <th>Salary</th>\n",
       "      <th>Dept</th>\n",
       "    </tr>\n",
       "  </thead>\n",
       "  <tbody>\n",
       "    <tr>\n",
       "      <th>0</th>\n",
       "      <td>623.30</td>\n",
       "      <td>IT</td>\n",
       "    </tr>\n",
       "    <tr>\n",
       "      <th>1</th>\n",
       "      <td>515.20</td>\n",
       "      <td>Operations</td>\n",
       "    </tr>\n",
       "    <tr>\n",
       "      <th>2</th>\n",
       "      <td>611.00</td>\n",
       "      <td>IT</td>\n",
       "    </tr>\n",
       "    <tr>\n",
       "      <th>3</th>\n",
       "      <td>729.00</td>\n",
       "      <td>HR</td>\n",
       "    </tr>\n",
       "    <tr>\n",
       "      <th>4</th>\n",
       "      <td>843.25</td>\n",
       "      <td>Finance</td>\n",
       "    </tr>\n",
       "    <tr>\n",
       "      <th>5</th>\n",
       "      <td>578.00</td>\n",
       "      <td>IT</td>\n",
       "    </tr>\n",
       "    <tr>\n",
       "      <th>6</th>\n",
       "      <td>632.80</td>\n",
       "      <td>Operations</td>\n",
       "    </tr>\n",
       "    <tr>\n",
       "      <th>7</th>\n",
       "      <td>722.50</td>\n",
       "      <td>Finance</td>\n",
       "    </tr>\n",
       "  </tbody>\n",
       "</table>\n",
       "</div>"
      ],
      "text/plain": [
       "   Salary        Dept\n",
       "0  623.30          IT\n",
       "1  515.20  Operations\n",
       "2  611.00          IT\n",
       "3  729.00          HR\n",
       "4  843.25     Finance\n",
       "5  578.00          IT\n",
       "6  632.80  Operations\n",
       "7  722.50     Finance"
      ]
     },
     "execution_count": 21,
     "metadata": {},
     "output_type": "execute_result"
    }
   ],
   "source": [
    "data.loc[:, ['Salary', 'Dept']]"
   ]
  },
  {
   "cell_type": "code",
   "execution_count": 22,
   "metadata": {},
   "outputs": [
    {
     "data": {
      "text/html": [
       "<div>\n",
       "<style scoped>\n",
       "    .dataframe tbody tr th:only-of-type {\n",
       "        vertical-align: middle;\n",
       "    }\n",
       "\n",
       "    .dataframe tbody tr th {\n",
       "        vertical-align: top;\n",
       "    }\n",
       "\n",
       "    .dataframe thead th {\n",
       "        text-align: right;\n",
       "    }\n",
       "</style>\n",
       "<table border=\"1\" class=\"dataframe\">\n",
       "  <thead>\n",
       "    <tr style=\"text-align: right;\">\n",
       "      <th></th>\n",
       "      <th>Salary</th>\n",
       "      <th>Dept</th>\n",
       "    </tr>\n",
       "  </thead>\n",
       "  <tbody>\n",
       "    <tr>\n",
       "      <th>1</th>\n",
       "      <td>515.20</td>\n",
       "      <td>Operations</td>\n",
       "    </tr>\n",
       "    <tr>\n",
       "      <th>3</th>\n",
       "      <td>729.00</td>\n",
       "      <td>HR</td>\n",
       "    </tr>\n",
       "    <tr>\n",
       "      <th>4</th>\n",
       "      <td>843.25</td>\n",
       "      <td>Finance</td>\n",
       "    </tr>\n",
       "  </tbody>\n",
       "</table>\n",
       "</div>"
      ],
      "text/plain": [
       "   Salary        Dept\n",
       "1  515.20  Operations\n",
       "3  729.00          HR\n",
       "4  843.25     Finance"
      ]
     },
     "execution_count": 22,
     "metadata": {},
     "output_type": "execute_result"
    }
   ],
   "source": [
    "data.loc[[1,3,4],['Salary','Dept']]"
   ]
  },
  {
   "cell_type": "code",
   "execution_count": 23,
   "metadata": {},
   "outputs": [
    {
     "data": {
      "text/plain": [
       "'[{\"ID\":1,\"Name\":\"Rick\",\"Salary\":623.3,\"StartDate\":\"1\\\\/1\\\\/2012\",\"Dept\":\"IT\"},{\"ID\":2,\"Name\":\"Dan\",\"Salary\":515.2,\"StartDate\":\"9\\\\/23\\\\/2013\",\"Dept\":\"Operations\"},{\"ID\":3,\"Name\":\"Michelle\",\"Salary\":611.0,\"StartDate\":\"11\\\\/15\\\\/2014\",\"Dept\":\"IT\"},{\"ID\":4,\"Name\":\"Ryan\",\"Salary\":729.0,\"StartDate\":\"5\\\\/11\\\\/2014\",\"Dept\":\"HR\"},{\"ID\":5,\"Name\":\"Gary\",\"Salary\":843.25,\"StartDate\":\"3\\\\/27\\\\/2015\",\"Dept\":\"Finance\"},{\"ID\":6,\"Name\":\"Nina\",\"Salary\":578.0,\"StartDate\":\"5\\\\/21\\\\/2013\",\"Dept\":\"IT\"},{\"ID\":7,\"Name\":\"Simon\",\"Salary\":632.8,\"StartDate\":\"7\\\\/30\\\\/2013\",\"Dept\":\"Operations\"},{\"ID\":8,\"Name\":\"Guru\",\"Salary\":722.5,\"StartDate\":\"6\\\\/17\\\\/2014\",\"Dept\":\"Finance\"}]'"
      ]
     },
     "execution_count": 23,
     "metadata": {},
     "output_type": "execute_result"
    }
   ],
   "source": [
    "data.to_json(orient=\"records\")"
   ]
  },
  {
   "cell_type": "code",
   "execution_count": 24,
   "metadata": {},
   "outputs": [
    {
     "data": {
      "text/plain": [
       "'{\"ID\":1,\"Name\":\"Rick\",\"Salary\":623.3,\"StartDate\":\"1\\\\/1\\\\/2012\",\"Dept\":\"IT\"}\\n{\"ID\":2,\"Name\":\"Dan\",\"Salary\":515.2,\"StartDate\":\"9\\\\/23\\\\/2013\",\"Dept\":\"Operations\"}\\n{\"ID\":3,\"Name\":\"Michelle\",\"Salary\":611.0,\"StartDate\":\"11\\\\/15\\\\/2014\",\"Dept\":\"IT\"}\\n{\"ID\":4,\"Name\":\"Ryan\",\"Salary\":729.0,\"StartDate\":\"5\\\\/11\\\\/2014\",\"Dept\":\"HR\"}\\n{\"ID\":5,\"Name\":\"Gary\",\"Salary\":843.25,\"StartDate\":\"3\\\\/27\\\\/2015\",\"Dept\":\"Finance\"}\\n{\"ID\":6,\"Name\":\"Nina\",\"Salary\":578.0,\"StartDate\":\"5\\\\/21\\\\/2013\",\"Dept\":\"IT\"}\\n{\"ID\":7,\"Name\":\"Simon\",\"Salary\":632.8,\"StartDate\":\"7\\\\/30\\\\/2013\",\"Dept\":\"Operations\"}\\n{\"ID\":8,\"Name\":\"Guru\",\"Salary\":722.5,\"StartDate\":\"6\\\\/17\\\\/2014\",\"Dept\":\"Finance\"}\\n'"
      ]
     },
     "execution_count": 24,
     "metadata": {},
     "output_type": "execute_result"
    }
   ],
   "source": [
    "data.to_json(orient='records', lines=True)"
   ]
  },
  {
   "cell_type": "markdown",
   "metadata": {},
   "source": [
    "## Processing XLS Data"
   ]
  },
  {
   "cell_type": "markdown",
   "metadata": {},
   "source": [
    "> ##### *convert csv to excel*"
   ]
  },
  {
   "cell_type": "code",
   "execution_count": 25,
   "metadata": {},
   "outputs": [],
   "source": [
    "import pandas as pd\n",
    "\n",
    "data = pd.read_csv(\"top_youtube_channel_data.csv\")\n",
    "data.to_excel(\"top_youtube_channel_data.xlsx\", index=None, header=True)"
   ]
  },
  {
   "cell_type": "markdown",
   "metadata": {},
   "source": [
    "> #### *Reading Excel File*"
   ]
  },
  {
   "cell_type": "code",
   "execution_count": 26,
   "metadata": {},
   "outputs": [
    {
     "data": {
      "text/html": [
       "<div>\n",
       "<style scoped>\n",
       "    .dataframe tbody tr th:only-of-type {\n",
       "        vertical-align: middle;\n",
       "    }\n",
       "\n",
       "    .dataframe tbody tr th {\n",
       "        vertical-align: top;\n",
       "    }\n",
       "\n",
       "    .dataframe thead th {\n",
       "        text-align: right;\n",
       "    }\n",
       "</style>\n",
       "<table border=\"1\" class=\"dataframe\">\n",
       "  <thead>\n",
       "    <tr style=\"text-align: right;\">\n",
       "      <th></th>\n",
       "      <th>rank</th>\n",
       "      <th>youtuber</th>\n",
       "      <th>subscribers</th>\n",
       "      <th>video views</th>\n",
       "      <th>video count</th>\n",
       "      <th>category</th>\n",
       "      <th>started</th>\n",
       "    </tr>\n",
       "  </thead>\n",
       "  <tbody>\n",
       "    <tr>\n",
       "      <th>0</th>\n",
       "      <td>1</td>\n",
       "      <td>T-Series</td>\n",
       "      <td>213000000</td>\n",
       "      <td>188,073,919,029</td>\n",
       "      <td>16708.0</td>\n",
       "      <td>Music</td>\n",
       "      <td>2006</td>\n",
       "    </tr>\n",
       "    <tr>\n",
       "      <th>1</th>\n",
       "      <td>2</td>\n",
       "      <td>YouTube Movies</td>\n",
       "      <td>150000000</td>\n",
       "      <td>167,122,746,349</td>\n",
       "      <td>NaN</td>\n",
       "      <td>Film &amp; Animation</td>\n",
       "      <td>2015</td>\n",
       "    </tr>\n",
       "    <tr>\n",
       "      <th>2</th>\n",
       "      <td>3</td>\n",
       "      <td>Cocomelon - Nursery Rhymes</td>\n",
       "      <td>133000000</td>\n",
       "      <td>126,822,520,940</td>\n",
       "      <td>751.0</td>\n",
       "      <td>Education</td>\n",
       "      <td>2006</td>\n",
       "    </tr>\n",
       "    <tr>\n",
       "      <th>3</th>\n",
       "      <td>4</td>\n",
       "      <td>SET India</td>\n",
       "      <td>131000000</td>\n",
       "      <td>101,541,977,714</td>\n",
       "      <td>78334.0</td>\n",
       "      <td>Shows</td>\n",
       "      <td>2006</td>\n",
       "    </tr>\n",
       "    <tr>\n",
       "      <th>4</th>\n",
       "      <td>5</td>\n",
       "      <td>Music</td>\n",
       "      <td>116000000</td>\n",
       "      <td>78,437,871,689</td>\n",
       "      <td>NaN</td>\n",
       "      <td>Music</td>\n",
       "      <td>2013</td>\n",
       "    </tr>\n",
       "    <tr>\n",
       "      <th>...</th>\n",
       "      <td>...</td>\n",
       "      <td>...</td>\n",
       "      <td>...</td>\n",
       "      <td>...</td>\n",
       "      <td>...</td>\n",
       "      <td>...</td>\n",
       "      <td>...</td>\n",
       "    </tr>\n",
       "    <tr>\n",
       "      <th>95</th>\n",
       "      <td>96</td>\n",
       "      <td>Markiplier</td>\n",
       "      <td>32600000</td>\n",
       "      <td>18,011,837,263</td>\n",
       "      <td>5129.0</td>\n",
       "      <td>Gaming</td>\n",
       "      <td>2012</td>\n",
       "    </tr>\n",
       "    <tr>\n",
       "      <th>96</th>\n",
       "      <td>97</td>\n",
       "      <td>Like Nastya ESP</td>\n",
       "      <td>32600000</td>\n",
       "      <td>15,144,858,210</td>\n",
       "      <td>584.0</td>\n",
       "      <td>Entertainment</td>\n",
       "      <td>2017</td>\n",
       "    </tr>\n",
       "    <tr>\n",
       "      <th>97</th>\n",
       "      <td>98</td>\n",
       "      <td>Ryan's World</td>\n",
       "      <td>32400000</td>\n",
       "      <td>51,312,603,726</td>\n",
       "      <td>2155.0</td>\n",
       "      <td>Entertainment</td>\n",
       "      <td>2015</td>\n",
       "    </tr>\n",
       "    <tr>\n",
       "      <th>98</th>\n",
       "      <td>99</td>\n",
       "      <td>ABP News</td>\n",
       "      <td>32300000</td>\n",
       "      <td>9,850,740,503</td>\n",
       "      <td>209351.0</td>\n",
       "      <td>People &amp; Blogs</td>\n",
       "      <td>2012</td>\n",
       "    </tr>\n",
       "    <tr>\n",
       "      <th>99</th>\n",
       "      <td>100</td>\n",
       "      <td>Desi Music Factory</td>\n",
       "      <td>32200000</td>\n",
       "      <td>9,115,577,588</td>\n",
       "      <td>122.0</td>\n",
       "      <td>Music</td>\n",
       "      <td>2014</td>\n",
       "    </tr>\n",
       "  </tbody>\n",
       "</table>\n",
       "<p>100 rows × 7 columns</p>\n",
       "</div>"
      ],
      "text/plain": [
       "    rank                     youtuber  subscribers      video views  \\\n",
       "0      1                    T-Series     213000000  188,073,919,029   \n",
       "1      2              YouTube Movies     150000000  167,122,746,349   \n",
       "2      3  Cocomelon - Nursery Rhymes     133000000  126,822,520,940   \n",
       "3      4                   SET India     131000000  101,541,977,714   \n",
       "4      5                       Music     116000000   78,437,871,689   \n",
       "..   ...                          ...          ...              ...   \n",
       "95    96                  Markiplier      32600000   18,011,837,263   \n",
       "96    97             Like Nastya ESP      32600000   15,144,858,210   \n",
       "97    98                Ryan's World      32400000   51,312,603,726   \n",
       "98    99                    ABP News      32300000    9,850,740,503   \n",
       "99   100          Desi Music Factory      32200000    9,115,577,588   \n",
       "\n",
       "    video count           category  started   \n",
       "0       16708.0             Music       2006  \n",
       "1           NaN  Film & Animation       2015  \n",
       "2         751.0         Education       2006  \n",
       "3       78334.0             Shows       2006  \n",
       "4           NaN             Music       2013  \n",
       "..          ...                ...       ...  \n",
       "95       5129.0            Gaming       2012  \n",
       "96        584.0     Entertainment       2017  \n",
       "97       2155.0     Entertainment       2015  \n",
       "98     209351.0    People & Blogs       2012  \n",
       "99        122.0             Music       2014  \n",
       "\n",
       "[100 rows x 7 columns]"
      ]
     },
     "execution_count": 26,
     "metadata": {},
     "output_type": "execute_result"
    }
   ],
   "source": [
    "data = pd.read_excel(\"top_youtube_channel_data.xlsx\")\n",
    "data"
   ]
  },
  {
   "cell_type": "code",
   "execution_count": 27,
   "metadata": {},
   "outputs": [
    {
     "data": {
      "text/html": [
       "<div>\n",
       "<style scoped>\n",
       "    .dataframe tbody tr th:only-of-type {\n",
       "        vertical-align: middle;\n",
       "    }\n",
       "\n",
       "    .dataframe tbody tr th {\n",
       "        vertical-align: top;\n",
       "    }\n",
       "\n",
       "    .dataframe thead th {\n",
       "        text-align: right;\n",
       "    }\n",
       "</style>\n",
       "<table border=\"1\" class=\"dataframe\">\n",
       "  <thead>\n",
       "    <tr style=\"text-align: right;\">\n",
       "      <th></th>\n",
       "      <th>youtuber</th>\n",
       "      <th>category</th>\n",
       "    </tr>\n",
       "  </thead>\n",
       "  <tbody>\n",
       "    <tr>\n",
       "      <th>1</th>\n",
       "      <td>YouTube Movies</td>\n",
       "      <td>Film &amp; Animation</td>\n",
       "    </tr>\n",
       "    <tr>\n",
       "      <th>2</th>\n",
       "      <td>Cocomelon - Nursery Rhymes</td>\n",
       "      <td>Education</td>\n",
       "    </tr>\n",
       "    <tr>\n",
       "      <th>3</th>\n",
       "      <td>SET India</td>\n",
       "      <td>Shows</td>\n",
       "    </tr>\n",
       "    <tr>\n",
       "      <th>5</th>\n",
       "      <td>PewDiePie</td>\n",
       "      <td>Gaming</td>\n",
       "    </tr>\n",
       "    <tr>\n",
       "      <th>6</th>\n",
       "      <td>MrBeast</td>\n",
       "      <td>Entertainment</td>\n",
       "    </tr>\n",
       "    <tr>\n",
       "      <th>7</th>\n",
       "      <td>Kids Diana Show</td>\n",
       "      <td>People &amp; Blogs</td>\n",
       "    </tr>\n",
       "  </tbody>\n",
       "</table>\n",
       "</div>"
      ],
      "text/plain": [
       "                      youtuber           category\n",
       "1              YouTube Movies   Film & Animation \n",
       "2  Cocomelon - Nursery Rhymes          Education \n",
       "3                   SET India              Shows \n",
       "5                   PewDiePie             Gaming \n",
       "6                     MrBeast      Entertainment \n",
       "7             Kids Diana Show     People & Blogs "
      ]
     },
     "execution_count": 27,
     "metadata": {},
     "output_type": "execute_result"
    }
   ],
   "source": [
    "data.loc[[1,2,3,5,6,7], ['youtuber','category']]"
   ]
  },
  {
   "cell_type": "code",
   "execution_count": 28,
   "metadata": {},
   "outputs": [
    {
     "data": {
      "text/html": [
       "<div>\n",
       "<style scoped>\n",
       "    .dataframe tbody tr th:only-of-type {\n",
       "        vertical-align: middle;\n",
       "    }\n",
       "\n",
       "    .dataframe tbody tr th {\n",
       "        vertical-align: top;\n",
       "    }\n",
       "\n",
       "    .dataframe thead th {\n",
       "        text-align: right;\n",
       "    }\n",
       "</style>\n",
       "<table border=\"1\" class=\"dataframe\">\n",
       "  <thead>\n",
       "    <tr style=\"text-align: right;\">\n",
       "      <th></th>\n",
       "      <th>rank</th>\n",
       "      <th>youtuber</th>\n",
       "      <th>subscribers</th>\n",
       "      <th>video views</th>\n",
       "      <th>video count</th>\n",
       "      <th>category</th>\n",
       "      <th>started</th>\n",
       "    </tr>\n",
       "  </thead>\n",
       "  <tbody>\n",
       "    <tr>\n",
       "      <th>0</th>\n",
       "      <td>1</td>\n",
       "      <td>T-Series</td>\n",
       "      <td>213000000</td>\n",
       "      <td>188,073,919,029</td>\n",
       "      <td>16708.0</td>\n",
       "      <td>Music</td>\n",
       "      <td>2006</td>\n",
       "    </tr>\n",
       "    <tr>\n",
       "      <th>1</th>\n",
       "      <td>2</td>\n",
       "      <td>YouTube Movies</td>\n",
       "      <td>150000000</td>\n",
       "      <td>167,122,746,349</td>\n",
       "      <td>NaN</td>\n",
       "      <td>Film &amp; Animation</td>\n",
       "      <td>2015</td>\n",
       "    </tr>\n",
       "    <tr>\n",
       "      <th>2</th>\n",
       "      <td>3</td>\n",
       "      <td>Cocomelon - Nursery Rhymes</td>\n",
       "      <td>133000000</td>\n",
       "      <td>126,822,520,940</td>\n",
       "      <td>751.0</td>\n",
       "      <td>Education</td>\n",
       "      <td>2006</td>\n",
       "    </tr>\n",
       "    <tr>\n",
       "      <th>3</th>\n",
       "      <td>4</td>\n",
       "      <td>SET India</td>\n",
       "      <td>131000000</td>\n",
       "      <td>101,541,977,714</td>\n",
       "      <td>78334.0</td>\n",
       "      <td>Shows</td>\n",
       "      <td>2006</td>\n",
       "    </tr>\n",
       "    <tr>\n",
       "      <th>4</th>\n",
       "      <td>5</td>\n",
       "      <td>Music</td>\n",
       "      <td>116000000</td>\n",
       "      <td>78,437,871,689</td>\n",
       "      <td>NaN</td>\n",
       "      <td>Music</td>\n",
       "      <td>2013</td>\n",
       "    </tr>\n",
       "    <tr>\n",
       "      <th>...</th>\n",
       "      <td>...</td>\n",
       "      <td>...</td>\n",
       "      <td>...</td>\n",
       "      <td>...</td>\n",
       "      <td>...</td>\n",
       "      <td>...</td>\n",
       "      <td>...</td>\n",
       "    </tr>\n",
       "    <tr>\n",
       "      <th>95</th>\n",
       "      <td>96</td>\n",
       "      <td>Markiplier</td>\n",
       "      <td>32600000</td>\n",
       "      <td>18,011,837,263</td>\n",
       "      <td>5129.0</td>\n",
       "      <td>Gaming</td>\n",
       "      <td>2012</td>\n",
       "    </tr>\n",
       "    <tr>\n",
       "      <th>96</th>\n",
       "      <td>97</td>\n",
       "      <td>Like Nastya ESP</td>\n",
       "      <td>32600000</td>\n",
       "      <td>15,144,858,210</td>\n",
       "      <td>584.0</td>\n",
       "      <td>Entertainment</td>\n",
       "      <td>2017</td>\n",
       "    </tr>\n",
       "    <tr>\n",
       "      <th>97</th>\n",
       "      <td>98</td>\n",
       "      <td>Ryan's World</td>\n",
       "      <td>32400000</td>\n",
       "      <td>51,312,603,726</td>\n",
       "      <td>2155.0</td>\n",
       "      <td>Entertainment</td>\n",
       "      <td>2015</td>\n",
       "    </tr>\n",
       "    <tr>\n",
       "      <th>98</th>\n",
       "      <td>99</td>\n",
       "      <td>ABP News</td>\n",
       "      <td>32300000</td>\n",
       "      <td>9,850,740,503</td>\n",
       "      <td>209351.0</td>\n",
       "      <td>People &amp; Blogs</td>\n",
       "      <td>2012</td>\n",
       "    </tr>\n",
       "    <tr>\n",
       "      <th>99</th>\n",
       "      <td>100</td>\n",
       "      <td>Desi Music Factory</td>\n",
       "      <td>32200000</td>\n",
       "      <td>9,115,577,588</td>\n",
       "      <td>122.0</td>\n",
       "      <td>Music</td>\n",
       "      <td>2014</td>\n",
       "    </tr>\n",
       "  </tbody>\n",
       "</table>\n",
       "<p>100 rows × 7 columns</p>\n",
       "</div>"
      ],
      "text/plain": [
       "    rank                     youtuber  subscribers      video views  \\\n",
       "0      1                    T-Series     213000000  188,073,919,029   \n",
       "1      2              YouTube Movies     150000000  167,122,746,349   \n",
       "2      3  Cocomelon - Nursery Rhymes     133000000  126,822,520,940   \n",
       "3      4                   SET India     131000000  101,541,977,714   \n",
       "4      5                       Music     116000000   78,437,871,689   \n",
       "..   ...                          ...          ...              ...   \n",
       "95    96                  Markiplier      32600000   18,011,837,263   \n",
       "96    97             Like Nastya ESP      32600000   15,144,858,210   \n",
       "97    98                Ryan's World      32400000   51,312,603,726   \n",
       "98    99                    ABP News      32300000    9,850,740,503   \n",
       "99   100          Desi Music Factory      32200000    9,115,577,588   \n",
       "\n",
       "    video count           category  started   \n",
       "0       16708.0             Music       2006  \n",
       "1           NaN  Film & Animation       2015  \n",
       "2         751.0         Education       2006  \n",
       "3       78334.0             Shows       2006  \n",
       "4           NaN             Music       2013  \n",
       "..          ...                ...       ...  \n",
       "95       5129.0            Gaming       2012  \n",
       "96        584.0     Entertainment       2017  \n",
       "97       2155.0     Entertainment       2015  \n",
       "98     209351.0    People & Blogs       2012  \n",
       "99        122.0             Music       2014  \n",
       "\n",
       "[100 rows x 7 columns]"
      ]
     },
     "execution_count": 28,
     "metadata": {},
     "output_type": "execute_result"
    }
   ],
   "source": [
    "import pandas as pd \n",
    "with pd.ExcelFile('top_youtube_channel_data.xlsx') as xls:\n",
    "    df1 = pd.read_excel(xls, 'Sheet1')\n",
    "    # df2 = pd.read_excel(xls, 'Sheet2')\n",
    "\n",
    "df1\n",
    "# try:\n",
    "#     df2\n",
    "# except:\n",
    "#     print(\"Not a Sheet2\")"
   ]
  },
  {
   "cell_type": "markdown",
   "metadata": {},
   "source": [
    "> ##### *Relational Database*"
   ]
  },
  {
   "cell_type": "code",
   "execution_count": 29,
   "metadata": {},
   "outputs": [
    {
     "name": "stdout",
     "output_type": "stream",
     "text": [
      "Requirement already satisfied: sqlalchemy in /home/devdarji/anaconda3/lib/python3.9/site-packages (1.4.32)\n",
      "Requirement already satisfied: greenlet!=0.4.17 in /home/devdarji/anaconda3/lib/python3.9/site-packages (from sqlalchemy) (1.1.1)\n"
     ]
    }
   ],
   "source": [
    "!pip install sqlalchemy"
   ]
  },
  {
   "cell_type": "code",
   "execution_count": 30,
   "metadata": {},
   "outputs": [
    {
     "name": "stdout",
     "output_type": "stream",
     "text": [
      "Result 1\n",
      "    index  rank                     youtuber  subscribers      video views  \\\n",
      "0       0     1                    T-Series     213000000  188,073,919,029   \n",
      "1       1     2              YouTube Movies     150000000  167,122,746,349   \n",
      "2       2     3  Cocomelon - Nursery Rhymes     133000000  126,822,520,940   \n",
      "3       3     4                   SET India     131000000  101,541,977,714   \n",
      "4       4     5                       Music     116000000   78,437,871,689   \n",
      "..    ...   ...                          ...          ...              ...   \n",
      "95     95    96                  Markiplier      32600000   18,011,837,263   \n",
      "96     96    97             Like Nastya ESP      32600000   15,144,858,210   \n",
      "97     97    98                Ryan's World      32400000   51,312,603,726   \n",
      "98     98    99                    ABP News      32300000    9,850,740,503   \n",
      "99     99   100          Desi Music Factory      32200000    9,115,577,588   \n",
      "\n",
      "    video count           category  started   \n",
      "0       16708.0             Music       2006  \n",
      "1           NaN  Film & Animation       2015  \n",
      "2         751.0         Education       2006  \n",
      "3       78334.0             Shows       2006  \n",
      "4           NaN             Music       2013  \n",
      "..          ...                ...       ...  \n",
      "95       5129.0            Gaming       2012  \n",
      "96        584.0     Entertainment       2017  \n",
      "97       2155.0     Entertainment       2015  \n",
      "98     209351.0    People & Blogs       2012  \n",
      "99        122.0             Music       2014  \n",
      "\n",
      "[100 rows x 8 columns]\n",
      " \n",
      "Result 2\n",
      "             category                     youtuber  rank\n",
      "0              Music                     T-Series      1\n",
      "1   Film & Animation               YouTube Movies      2\n",
      "2          Education   Cocomelon - Nursery Rhymes      3\n",
      "3              Shows                    SET India      4\n",
      "4              Music                        Music      5\n",
      "..                ...                          ...   ...\n",
      "95            Gaming                   Markiplier     96\n",
      "96     Entertainment              Like Nastya ESP     97\n",
      "97     Entertainment                 Ryan's World     98\n",
      "98    People & Blogs                     ABP News     99\n",
      "99             Music           Desi Music Factory    100\n",
      "\n",
      "[100 rows x 3 columns]\n"
     ]
    }
   ],
   "source": [
    "from sqlalchemy import create_engine\n",
    "import pandas as pd\n",
    "\n",
    "data = pd.read_csv(\"top_youtube_channel_data.csv\")\n",
    "\n",
    "# Create the db engine\n",
    "engine = create_engine('sqlite:///:memory:')\n",
    "\n",
    "# Store the DataFrame as table \n",
    "data.to_sql('data_table',engine)\n",
    "\n",
    "# Query 1 on the relational table\n",
    "res1 = pd.read_sql_query('SELECT * FROM data_table', engine)\n",
    "print(\"Result 1\")\n",
    "print(res1)\n",
    "print(\" \")\n",
    "\n",
    "# Query 2 on the realtional Database\n",
    "res2 = pd.read_sql_query('SELECT category,youtuber,rank FROM data_table', engine)\n",
    "print(\"Result 2\")\n",
    "print(res2)"
   ]
  },
  {
   "cell_type": "markdown",
   "metadata": {},
   "source": [
    "> ##### *NoSQL Database*"
   ]
  },
  {
   "cell_type": "code",
   "execution_count": 31,
   "metadata": {},
   "outputs": [
    {
     "name": "stdout",
     "output_type": "stream",
     "text": [
      "Requirement already satisfied: pymongo in /home/devdarji/anaconda3/lib/python3.9/site-packages (4.1.1)\n"
     ]
    }
   ],
   "source": [
    "!pip install pymongo"
   ]
  },
  {
   "cell_type": "code",
   "execution_count": 32,
   "metadata": {},
   "outputs": [],
   "source": [
    "from pymongo import MongoClient\n",
    "from pprint import pprint\n",
    "\n",
    "# Choose the appropriate client\n",
    "client = MongoClient()\n",
    "\n",
    "# Connect to the test db\n",
    "db = client.test\n",
    "\n",
    "# Use the Employee Collection\n",
    "employee = db.employee\n",
    "employee_details = {\n",
    "    'Name': 'Dev Darji',\n",
    "    'Address': 'Shivdhara Residency',\n",
    "    'Age': '23'\n",
    "}\n",
    "\n",
    "# employee.insert_one(employee_details)\n",
    "# employee.find_one({'Age': '23'})\n",
    "\n",
    "# Use the insert method\n",
    "# result = employee.insert_one(employee_details)\n",
    "# result\n",
    "\n",
    "# Query for the inserted document.\n",
    "# queryResult = employee.find_one({'Age':'23'})\n",
    "# pprint(queryResult)"
   ]
  },
  {
   "cell_type": "markdown",
   "metadata": {},
   "source": [
    "> ### *Date and Time* "
   ]
  },
  {
   "cell_type": "markdown",
   "metadata": {},
   "source": [
    "- *Date Time Representation*\n",
    "- *Date Time Arithmetic*\n",
    "- *Date Time Comparison*"
   ]
  },
  {
   "cell_type": "markdown",
   "metadata": {},
   "source": [
    ">> ##### *Date time Representation* "
   ]
  },
  {
   "cell_type": "code",
   "execution_count": 33,
   "metadata": {},
   "outputs": [
    {
     "name": "stdout",
     "output_type": "stream",
     "text": [
      "Print the date of Today: 2022-06-01 18:16:33.489964\n"
     ]
    }
   ],
   "source": [
    "import datetime\n",
    "\n",
    "print(\"Print the date of Today:\", datetime.datetime.today())"
   ]
  },
  {
   "cell_type": "code",
   "execution_count": 34,
   "metadata": {},
   "outputs": [
    {
     "name": "stdout",
     "output_type": "stream",
     "text": [
      "Today Date :  2022-06-01\n"
     ]
    }
   ],
   "source": [
    "date_today = datetime.date.today()\n",
    "print(\"Today Date : \",date_today)"
   ]
  },
  {
   "cell_type": "code",
   "execution_count": 35,
   "metadata": {},
   "outputs": [
    {
     "name": "stdout",
     "output_type": "stream",
     "text": [
      "This Year :  2022\n"
     ]
    }
   ],
   "source": [
    "print(\"This Year : \", date_today.year)"
   ]
  },
  {
   "cell_type": "code",
   "execution_count": 36,
   "metadata": {},
   "outputs": [
    {
     "name": "stdout",
     "output_type": "stream",
     "text": [
      "This Month :  6\n"
     ]
    }
   ],
   "source": [
    "print(\"This Month : \", date_today.month)"
   ]
  },
  {
   "cell_type": "code",
   "execution_count": 37,
   "metadata": {},
   "outputs": [
    {
     "name": "stdout",
     "output_type": "stream",
     "text": [
      "This week day 1\n"
     ]
    }
   ],
   "source": [
    "print(\"This week day\",date_today.day)"
   ]
  },
  {
   "cell_type": "code",
   "execution_count": 38,
   "metadata": {},
   "outputs": [
    {
     "name": "stdout",
     "output_type": "stream",
     "text": [
      "Month Name :  June\n"
     ]
    }
   ],
   "source": [
    "print(\"Month Name : \", date_today.strftime('%B'))"
   ]
  },
  {
   "cell_type": "code",
   "execution_count": 39,
   "metadata": {},
   "outputs": [
    {
     "name": "stdout",
     "output_type": "stream",
     "text": [
      "Week Day Name :  Wednesday\n"
     ]
    }
   ],
   "source": [
    "print(\"Week Day Name : \", date_today.strftime('%A'))"
   ]
  },
  {
   "cell_type": "markdown",
   "metadata": {},
   "source": [
    ">> ##### *Date Time Arithmetic*"
   ]
  },
  {
   "cell_type": "code",
   "execution_count": 40,
   "metadata": {},
   "outputs": [
    {
     "name": "stdout",
     "output_type": "stream",
     "text": [
      "day1 :  Tue May 31 00:00:00 2022\n"
     ]
    }
   ],
   "source": [
    "import datetime\n",
    "\n",
    "# Capture the First Date\n",
    "day1 = datetime.date(2022, 5, 31)\n",
    "print(\"day1 : \", day1.ctime())"
   ]
  },
  {
   "cell_type": "code",
   "execution_count": 41,
   "metadata": {},
   "outputs": [
    {
     "name": "stdout",
     "output_type": "stream",
     "text": [
      "day2 :  Sat Jun 25 00:00:00 2022\n"
     ]
    }
   ],
   "source": [
    "day2 = datetime.date(2022, 6, 25)\n",
    "print(\"day2 : \", day2.ctime())"
   ]
  },
  {
   "cell_type": "code",
   "execution_count": 42,
   "metadata": {},
   "outputs": [
    {
     "name": "stdout",
     "output_type": "stream",
     "text": [
      "Number of Days :  25 days, 0:00:00\n"
     ]
    }
   ],
   "source": [
    "print(\"Number of Days : \", day2-day1)"
   ]
  },
  {
   "cell_type": "code",
   "execution_count": 43,
   "metadata": {},
   "outputs": [
    {
     "name": "stdout",
     "output_type": "stream",
     "text": [
      "2022-06-01\n"
     ]
    }
   ],
   "source": [
    "date_today = datetime.date.today()\n",
    "print(date_today)"
   ]
  },
  {
   "cell_type": "code",
   "execution_count": 44,
   "metadata": {},
   "outputs": [
    {
     "name": "stdout",
     "output_type": "stream",
     "text": [
      "No of Days 4 days, 0:00:00\n"
     ]
    }
   ],
   "source": [
    "# Create a delta of 4 days\n",
    "no_of_days = datetime.timedelta(days=4)\n",
    "print(\"No of Days\", no_of_days)"
   ]
  },
  {
   "cell_type": "code",
   "execution_count": 45,
   "metadata": {},
   "outputs": [
    {
     "name": "stdout",
     "output_type": "stream",
     "text": [
      "Before 4 Days 2022-05-28\n"
     ]
    }
   ],
   "source": [
    "before_four_days = date_today -no_of_days\n",
    "print(\"Before 4 Days\", before_four_days)"
   ]
  },
  {
   "cell_type": "code",
   "execution_count": 46,
   "metadata": {},
   "outputs": [
    {
     "name": "stdout",
     "output_type": "stream",
     "text": [
      "After 4 Days 2022-06-05\n"
     ]
    }
   ],
   "source": [
    "after_four_days = date_today + no_of_days\n",
    "print(\"After 4 Days\", after_four_days)"
   ]
  },
  {
   "cell_type": "markdown",
   "metadata": {},
   "source": [
    ">> ##### *Date Time Comparison*"
   ]
  },
  {
   "cell_type": "code",
   "execution_count": 47,
   "metadata": {},
   "outputs": [
    {
     "name": "stdout",
     "output_type": "stream",
     "text": [
      "Before Four Days :  2022-05-28\n",
      "After Four Days :  2022-06-05\n",
      "Date1 :  2022-05-28\n",
      "Same Date\n",
      "Past Date\n",
      "Future Days\n"
     ]
    }
   ],
   "source": [
    "import datetime\n",
    "\n",
    "date_today = datetime.date.today()\n",
    "\n",
    "no_of_days = datetime.timedelta(days=4)\n",
    "\n",
    "before_four_days = date_today - no_of_days\n",
    "print(\"Before Four Days : \", before_four_days)\n",
    "\n",
    "after_four_days = date_today + no_of_days\n",
    "print(\"After Four Days : \", after_four_days)\n",
    "\n",
    "date1 = datetime.date(2022,5,28)\n",
    "print(\"Date1 : \",date1)\n",
    "\n",
    "if date1 == before_four_days:\n",
    "    print(\"Same Date\")\n",
    "if date_today > date1:\n",
    "    print(\"Past Date\")\n",
    "if date1 < after_four_days:\n",
    "    print(\"Future Days\")"
   ]
  },
  {
   "cell_type": "markdown",
   "metadata": {},
   "source": [
    "> ### Data Wrangling"
   ]
  },
  {
   "cell_type": "markdown",
   "metadata": {},
   "source": [
    ">> ##### Merging Data"
   ]
  },
  {
   "cell_type": "code",
   "execution_count": 48,
   "metadata": {},
   "outputs": [
    {
     "name": "stdout",
     "output_type": "stream",
     "text": [
      "   id    Name subject_id\n",
      "0   1     Dev       sub1\n",
      "1   2    Ravi       sub2\n",
      "2   3   Kiran       sub3\n",
      "3   4  Haresh       sub4\n",
      "4   5   Mayur       sub5\n",
      "   id     Name subject_id\n",
      "0   1  Darshan       sub1\n",
      "1   2    Suhag       sub2\n",
      "2   3    Karan       sub3\n",
      "3   4    Parth       sub4\n",
      "4   5     Raju       sub5\n"
     ]
    }
   ],
   "source": [
    "import pandas as pd\n",
    "\n",
    "left = pd.DataFrame({\n",
    "    'id':[1,2,3,4,5],\n",
    "    'Name':['Dev','Ravi','Kiran','Haresh','Mayur'],\n",
    "    'subject_id':['sub1','sub2','sub3','sub4','sub5']\n",
    "})\n",
    "\n",
    "right = pd.DataFrame({\n",
    "    'id':[1,2,3,4,5],\n",
    "    'Name':['Darshan','Suhag','Karan','Parth','Raju'],\n",
    "    'subject_id':['sub1','sub2','sub3','sub4','sub5']\n",
    "})\n",
    "\n",
    "print(left)\n",
    "print(right)"
   ]
  },
  {
   "cell_type": "markdown",
   "metadata": {},
   "source": [
    ">> ##### *Grouping Data*"
   ]
  },
  {
   "cell_type": "code",
   "execution_count": 49,
   "metadata": {},
   "outputs": [
    {
     "name": "stdout",
     "output_type": "stream",
     "text": [
      "      Team  Rank  Year  Points\n",
      "1   Riders     2  2015     789\n",
      "3   Devils     3  2015     673\n",
      "5    kings     4  2015     812\n",
      "10  Royals     1  2015     804\n"
     ]
    }
   ],
   "source": [
    "# import the pandas library\n",
    "import pandas as pd\n",
    "\n",
    "ipl_data = {'Team': ['Riders', 'Riders', 'Devils', 'Devils', 'Kings',\n",
    "    'kings', 'Kings', 'Kings', 'Riders', 'Royals', 'Royals', 'Riders'],\n",
    "    'Rank': [1, 2, 2, 3, 3,4 ,1 ,1,2 , 4,1,2],\n",
    "    'Year': [2014,2015,2014,2015,2014,2015,2016,2017,2016,2014,2015,2017],\n",
    "    'Points':[876,789,863,673,741,812,756,788,694,701,804,690]}\n",
    "df = pd.DataFrame(ipl_data)\n",
    "\n",
    "grouped = df.groupby('Year')\n",
    "print(grouped.get_group(2015))"
   ]
  },
  {
   "cell_type": "markdown",
   "metadata": {},
   "source": [
    ">> #### *Concatenating Data*"
   ]
  },
  {
   "cell_type": "code",
   "execution_count": 50,
   "metadata": {},
   "outputs": [
    {
     "name": "stdout",
     "output_type": "stream",
     "text": [
      "   id     Name subject_id\n",
      "0   1      Dev       sub1\n",
      "1   2     Ravi       sub2\n",
      "2   3    Kiran       sub3\n",
      "3   4   Haresh       sub4\n",
      "4   5    Mayur       sub5\n",
      "0   1  Darshan       sub1\n",
      "1   2    Suhag       sub2\n",
      "2   3    Karan       sub3\n",
      "3   4    Parth       sub4\n",
      "4   5     Raju       sub5\n"
     ]
    }
   ],
   "source": [
    "print(pd.concat([left, right]))"
   ]
  },
  {
   "cell_type": "markdown",
   "metadata": {},
   "source": [
    "> ### Data Aggregation"
   ]
  },
  {
   "cell_type": "code",
   "execution_count": 51,
   "metadata": {},
   "outputs": [
    {
     "data": {
      "text/html": [
       "<div>\n",
       "<style scoped>\n",
       "    .dataframe tbody tr th:only-of-type {\n",
       "        vertical-align: middle;\n",
       "    }\n",
       "\n",
       "    .dataframe tbody tr th {\n",
       "        vertical-align: top;\n",
       "    }\n",
       "\n",
       "    .dataframe thead th {\n",
       "        text-align: right;\n",
       "    }\n",
       "</style>\n",
       "<table border=\"1\" class=\"dataframe\">\n",
       "  <thead>\n",
       "    <tr style=\"text-align: right;\">\n",
       "      <th></th>\n",
       "      <th>A</th>\n",
       "      <th>B</th>\n",
       "      <th>C</th>\n",
       "      <th>D</th>\n",
       "    </tr>\n",
       "  </thead>\n",
       "  <tbody>\n",
       "    <tr>\n",
       "      <th>2000-01-01</th>\n",
       "      <td>1.166628</td>\n",
       "      <td>-0.377621</td>\n",
       "      <td>-0.425730</td>\n",
       "      <td>1.647737</td>\n",
       "    </tr>\n",
       "    <tr>\n",
       "      <th>2000-01-02</th>\n",
       "      <td>-1.177093</td>\n",
       "      <td>-1.794438</td>\n",
       "      <td>-1.127914</td>\n",
       "      <td>-1.370293</td>\n",
       "    </tr>\n",
       "    <tr>\n",
       "      <th>2000-01-03</th>\n",
       "      <td>1.190205</td>\n",
       "      <td>-0.055747</td>\n",
       "      <td>0.313279</td>\n",
       "      <td>-0.505850</td>\n",
       "    </tr>\n",
       "    <tr>\n",
       "      <th>2000-01-04</th>\n",
       "      <td>-1.356973</td>\n",
       "      <td>0.888152</td>\n",
       "      <td>-0.617353</td>\n",
       "      <td>0.434275</td>\n",
       "    </tr>\n",
       "    <tr>\n",
       "      <th>2000-01-05</th>\n",
       "      <td>0.416298</td>\n",
       "      <td>-1.297181</td>\n",
       "      <td>-1.416315</td>\n",
       "      <td>-0.611810</td>\n",
       "    </tr>\n",
       "    <tr>\n",
       "      <th>2000-01-06</th>\n",
       "      <td>0.271700</td>\n",
       "      <td>-0.112329</td>\n",
       "      <td>0.308586</td>\n",
       "      <td>0.774573</td>\n",
       "    </tr>\n",
       "    <tr>\n",
       "      <th>2000-01-07</th>\n",
       "      <td>1.350370</td>\n",
       "      <td>-0.644341</td>\n",
       "      <td>-1.632185</td>\n",
       "      <td>0.529025</td>\n",
       "    </tr>\n",
       "    <tr>\n",
       "      <th>2000-01-08</th>\n",
       "      <td>-0.936359</td>\n",
       "      <td>1.029574</td>\n",
       "      <td>-0.405724</td>\n",
       "      <td>1.376959</td>\n",
       "    </tr>\n",
       "    <tr>\n",
       "      <th>2000-01-09</th>\n",
       "      <td>-0.350212</td>\n",
       "      <td>0.186073</td>\n",
       "      <td>0.481101</td>\n",
       "      <td>-0.292802</td>\n",
       "    </tr>\n",
       "    <tr>\n",
       "      <th>2000-01-10</th>\n",
       "      <td>0.895470</td>\n",
       "      <td>1.117392</td>\n",
       "      <td>1.276203</td>\n",
       "      <td>1.410038</td>\n",
       "    </tr>\n",
       "  </tbody>\n",
       "</table>\n",
       "</div>"
      ],
      "text/plain": [
       "                   A         B         C         D\n",
       "2000-01-01  1.166628 -0.377621 -0.425730  1.647737\n",
       "2000-01-02 -1.177093 -1.794438 -1.127914 -1.370293\n",
       "2000-01-03  1.190205 -0.055747  0.313279 -0.505850\n",
       "2000-01-04 -1.356973  0.888152 -0.617353  0.434275\n",
       "2000-01-05  0.416298 -1.297181 -1.416315 -0.611810\n",
       "2000-01-06  0.271700 -0.112329  0.308586  0.774573\n",
       "2000-01-07  1.350370 -0.644341 -1.632185  0.529025\n",
       "2000-01-08 -0.936359  1.029574 -0.405724  1.376959\n",
       "2000-01-09 -0.350212  0.186073  0.481101 -0.292802\n",
       "2000-01-10  0.895470  1.117392  1.276203  1.410038"
      ]
     },
     "execution_count": 51,
     "metadata": {},
     "output_type": "execute_result"
    }
   ],
   "source": [
    "import pandas as pd\n",
    "import numpy as np\n",
    "\n",
    "df = pd.DataFrame(np.random.randn(10,4),\n",
    "                  index=pd.date_range('1/1/2000', periods=10),\n",
    "                  columns=['A','B','C','D'])\n",
    "df"
   ]
  },
  {
   "cell_type": "code",
   "execution_count": 52,
   "metadata": {},
   "outputs": [
    {
     "name": "stdout",
     "output_type": "stream",
     "text": [
      "Rolling [window=3,min_periods=1,center=False,axis=0,method=single]\n"
     ]
    }
   ],
   "source": [
    "r = df.rolling(window=3, min_periods=1)\n",
    "print(r)"
   ]
  },
  {
   "cell_type": "code",
   "execution_count": 53,
   "metadata": {},
   "outputs": [
    {
     "name": "stdout",
     "output_type": "stream",
     "text": [
      "                   A         B         C         D\n",
      "2000-01-01  1.166628 -0.377621 -0.425730  1.647737\n",
      "2000-01-02 -1.177093 -1.794438 -1.127914 -1.370293\n",
      "2000-01-03  1.190205 -0.055747  0.313279 -0.505850\n",
      "2000-01-04 -1.356973  0.888152 -0.617353  0.434275\n",
      "2000-01-05  0.416298 -1.297181 -1.416315 -0.611810\n",
      "2000-01-06  0.271700 -0.112329  0.308586  0.774573\n",
      "2000-01-07  1.350370 -0.644341 -1.632185  0.529025\n",
      "2000-01-08 -0.936359  1.029574 -0.405724  1.376959\n",
      "2000-01-09 -0.350212  0.186073  0.481101 -0.292802\n",
      "2000-01-10  0.895470  1.117392  1.276203  1.410038\n",
      "                   A         B         C         D\n",
      "2000-01-01  1.166628 -0.377621 -0.425730  1.647737\n",
      "2000-01-02 -0.010465 -2.172060 -1.553644  0.277444\n",
      "2000-01-03  1.179740 -2.227807 -1.240365 -0.228406\n",
      "2000-01-04 -1.343861 -0.962033 -1.431988 -1.441869\n",
      "2000-01-05  0.249530 -0.464775 -1.720389 -0.683386\n",
      "2000-01-06 -0.668975 -0.521358 -1.725082  0.597037\n",
      "2000-01-07  2.038368 -2.053851 -2.739913  0.691788\n",
      "2000-01-08  0.685711  0.272903 -1.729322  2.680556\n",
      "2000-01-09  0.063798  0.571306 -1.556807  1.613181\n",
      "2000-01-10 -0.391101  2.333039  1.351581  2.494194\n"
     ]
    }
   ],
   "source": [
    "print(df)\n",
    "print(r.aggregate(np.sum))"
   ]
  },
  {
   "cell_type": "code",
   "execution_count": 54,
   "metadata": {},
   "outputs": [
    {
     "name": "stdout",
     "output_type": "stream",
     "text": [
      "                   A         B         C         D\n",
      "2000-01-01  1.166628 -0.377621 -0.425730  1.647737\n",
      "2000-01-02 -1.177093 -1.794438 -1.127914 -1.370293\n",
      "2000-01-03  1.190205 -0.055747  0.313279 -0.505850\n",
      "2000-01-04 -1.356973  0.888152 -0.617353  0.434275\n",
      "2000-01-05  0.416298 -1.297181 -1.416315 -0.611810\n",
      "2000-01-06  0.271700 -0.112329  0.308586  0.774573\n",
      "2000-01-07  1.350370 -0.644341 -1.632185  0.529025\n",
      "2000-01-08 -0.936359  1.029574 -0.405724  1.376959\n",
      "2000-01-09 -0.350212  0.186073  0.481101 -0.292802\n",
      "2000-01-10  0.895470  1.117392  1.276203  1.410038\n",
      "2000-01-01    1.166628\n",
      "2000-01-02   -0.010465\n",
      "2000-01-03    1.179740\n",
      "2000-01-04   -1.343861\n",
      "2000-01-05    0.249530\n",
      "2000-01-06   -0.668975\n",
      "2000-01-07    2.038368\n",
      "2000-01-08    0.685711\n",
      "2000-01-09    0.063798\n",
      "2000-01-10   -0.391101\n",
      "Freq: D, Name: A, dtype: float64\n"
     ]
    }
   ],
   "source": [
    "print(df)\n",
    "print(r['A'].aggregate(np.sum))"
   ]
  },
  {
   "cell_type": "code",
   "execution_count": 55,
   "metadata": {},
   "outputs": [
    {
     "name": "stdout",
     "output_type": "stream",
     "text": [
      "                   A         B         C         D\n",
      "2000-01-01  1.166628 -0.377621 -0.425730  1.647737\n",
      "2000-01-02 -1.177093 -1.794438 -1.127914 -1.370293\n",
      "2000-01-03  1.190205 -0.055747  0.313279 -0.505850\n",
      "2000-01-04 -1.356973  0.888152 -0.617353  0.434275\n",
      "2000-01-05  0.416298 -1.297181 -1.416315 -0.611810\n",
      "2000-01-06  0.271700 -0.112329  0.308586  0.774573\n",
      "2000-01-07  1.350370 -0.644341 -1.632185  0.529025\n",
      "2000-01-08 -0.936359  1.029574 -0.405724  1.376959\n",
      "2000-01-09 -0.350212  0.186073  0.481101 -0.292802\n",
      "2000-01-10  0.895470  1.117392  1.276203  1.410038\n",
      "                   A         B\n",
      "2000-01-01  1.166628 -0.377621\n",
      "2000-01-02 -0.010465 -2.172060\n",
      "2000-01-03  1.179740 -2.227807\n",
      "2000-01-04 -1.343861 -0.962033\n",
      "2000-01-05  0.249530 -0.464775\n",
      "2000-01-06 -0.668975 -0.521358\n",
      "2000-01-07  2.038368 -2.053851\n",
      "2000-01-08  0.685711  0.272903\n",
      "2000-01-09  0.063798  0.571306\n",
      "2000-01-10 -0.391101  2.333039\n"
     ]
    }
   ],
   "source": [
    "print(df)\n",
    "print(r[['A','B']].aggregate(np.sum))"
   ]
  },
  {
   "cell_type": "code",
   "execution_count": null,
   "metadata": {},
   "outputs": [],
   "source": []
  },
  {
   "cell_type": "code",
   "execution_count": null,
   "metadata": {},
   "outputs": [],
   "source": []
  },
  {
   "cell_type": "code",
   "execution_count": null,
   "metadata": {},
   "outputs": [],
   "source": []
  },
  {
   "cell_type": "code",
   "execution_count": null,
   "metadata": {},
   "outputs": [],
   "source": []
  },
  {
   "cell_type": "code",
   "execution_count": null,
   "metadata": {},
   "outputs": [],
   "source": []
  },
  {
   "cell_type": "code",
   "execution_count": null,
   "metadata": {},
   "outputs": [],
   "source": []
  },
  {
   "cell_type": "code",
   "execution_count": null,
   "metadata": {},
   "outputs": [],
   "source": []
  },
  {
   "cell_type": "code",
   "execution_count": null,
   "metadata": {},
   "outputs": [],
   "source": []
  },
  {
   "cell_type": "code",
   "execution_count": null,
   "metadata": {},
   "outputs": [],
   "source": []
  },
  {
   "cell_type": "code",
   "execution_count": null,
   "metadata": {},
   "outputs": [],
   "source": []
  },
  {
   "cell_type": "code",
   "execution_count": null,
   "metadata": {},
   "outputs": [],
   "source": []
  },
  {
   "cell_type": "code",
   "execution_count": null,
   "metadata": {},
   "outputs": [],
   "source": []
  },
  {
   "cell_type": "code",
   "execution_count": null,
   "metadata": {},
   "outputs": [],
   "source": []
  },
  {
   "cell_type": "code",
   "execution_count": null,
   "metadata": {},
   "outputs": [],
   "source": []
  },
  {
   "cell_type": "code",
   "execution_count": null,
   "metadata": {},
   "outputs": [],
   "source": []
  },
  {
   "cell_type": "code",
   "execution_count": null,
   "metadata": {},
   "outputs": [],
   "source": []
  },
  {
   "cell_type": "code",
   "execution_count": null,
   "metadata": {},
   "outputs": [],
   "source": []
  },
  {
   "cell_type": "code",
   "execution_count": null,
   "metadata": {},
   "outputs": [],
   "source": []
  },
  {
   "cell_type": "code",
   "execution_count": null,
   "metadata": {},
   "outputs": [],
   "source": []
  },
  {
   "cell_type": "code",
   "execution_count": null,
   "metadata": {},
   "outputs": [],
   "source": []
  },
  {
   "cell_type": "code",
   "execution_count": null,
   "metadata": {},
   "outputs": [],
   "source": []
  },
  {
   "cell_type": "code",
   "execution_count": null,
   "metadata": {},
   "outputs": [],
   "source": []
  },
  {
   "cell_type": "code",
   "execution_count": null,
   "metadata": {},
   "outputs": [],
   "source": []
  },
  {
   "cell_type": "code",
   "execution_count": null,
   "metadata": {},
   "outputs": [],
   "source": []
  },
  {
   "cell_type": "code",
   "execution_count": null,
   "metadata": {},
   "outputs": [],
   "source": []
  },
  {
   "cell_type": "code",
   "execution_count": null,
   "metadata": {},
   "outputs": [],
   "source": []
  },
  {
   "cell_type": "code",
   "execution_count": null,
   "metadata": {},
   "outputs": [],
   "source": []
  }
 ],
 "metadata": {
  "interpreter": {
   "hash": "89cf5402e0c1aa13651504e44e670d9436e9562706e1f131e9f22cd80ff27135"
  },
  "kernelspec": {
   "display_name": "Python 3.8.3 64-bit ('3.8.3')",
   "language": "python",
   "name": "python3"
  },
  "language_info": {
   "codemirror_mode": {
    "name": "ipython",
    "version": 3
   },
   "file_extension": ".py",
   "mimetype": "text/x-python",
   "name": "python",
   "nbconvert_exporter": "python",
   "pygments_lexer": "ipython3",
   "version": "3.9.12"
  },
  "orig_nbformat": 4
 },
 "nbformat": 4,
 "nbformat_minor": 2
}
